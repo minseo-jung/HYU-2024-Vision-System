{
 "cells": [
  {
   "cell_type": "code",
   "execution_count": null,
   "metadata": {},
   "outputs": [],
   "source": [
    "import numpy as np\n",
    "import cv2\n",
    "\n",
    "images = [cv2.imread('data/hyu_{}.jpeg'.format(i)) for i in range(3)]\n",
    "grays = [cv2.cvtColor(img, cv2.COLOR_BGR2GRAY) for img in images]\n",
    "\n",
    "\n",
    "sift = cv2.xfeatures2d.SIFT_create()\n",
    "kps = []\n",
    "descs = []\n",
    "for gray in grays:\n",
    "    kp, desc = sift.detectAndCompute(gray, None)\n",
    "    kps.append(kp)\n",
    "    descs.append(desc)\n",
    "\n",
    "bf = cv2.BFMatcher()\n",
    "matches1 = bf.match(descs[0], descs[1])     # between image 0 and image 1\n",
    "matches2 = bf.match(descs[2], descs[1])     # between image 2 and image 1"
   ]
  },
  {
   "cell_type": "code",
   "execution_count": null,
   "metadata": {},
   "outputs": [],
   "source": [
    "\n",
    "sorted_matches = sorted(matches1, key = lambda x : x.distance)\n",
    "res = cv2.drawMatches(images[0], kps[0], images[1], kps[1], sorted_matches[:50], None, flags = 2)\n",
    "\n",
    "from PIL import Image\n",
    "Image.fromarray(cv2.cvtColor(res, cv2.COLOR_BGR2RGB))"
   ]
  },
  {
   "cell_type": "code",
   "execution_count": null,
   "metadata": {},
   "outputs": [],
   "source": [
    "sorted_matches = sorted(matches2, key = lambda x : x.distance)\n",
    "res = cv2.drawMatches(images[2], kps[2], images[1], kps[1], sorted_matches[:50], None, flags = 2)\n",
    "\n",
    "from PIL import Image\n",
    "Image.fromarray(cv2.cvtColor(res, cv2.COLOR_BGR2RGB))"
   ]
  },
  {
   "cell_type": "code",
   "execution_count": null,
   "metadata": {},
   "outputs": [],
   "source": [
    "height, width, _ = images[0].shape\n",
    "result = np.zeros((height, width * 3, 3), dtype = np.uint8)\n",
    "\n",
    "# Stitch image2 to image1\n",
    "src = np.float32([kps[2][m.queryIdx].pt for m in matches2]).reshape((-1, 1, 2))\n",
    "dst = np.float32([kps[1][m.trainIdx].pt for m in matches2]).reshape((-1, 1, 2))\n",
    "H, status = cv2.findHomography(src, dst, cv2.RANSAC, 5.0)\n",
    "\n",
    "# Prepare pixel coordinates in image1\n",
    "before = []\n",
    "for x in range(images[1].shape[1]):\n",
    "    for y in range(images[1].shape[0]):\n",
    "        point = [x, y, 1]\n",
    "        before.append(point)\n",
    "before = np.array(before).transpose()\n",
    "\n",
    "# [TODO] Calculate coordinates for each pixel in image1 to image 2\n",
    "after =\n",
    "after =\n",
    "after = after[:2, :]\n",
    "after = np.round(after, 0).astype(int)\n",
    "\n",
    "\n",
    "for pt1, pt2 in zip(before[:2, :].transpose(), after.transpose()):\n",
    "    if pt2[1] >= height:\n",
    "        continue\n",
    "\n",
    "    if np.sum(pt2 < 0) >= 1:\n",
    "        continue\n",
    "\n",
    "    result[pt2[1], width+pt2[0]] = images[2][pt1[1], pt1[0]]\n",
    "\n",
    "\n",
    "# Stitch image0 to image1\n",
    "src = np.float32([kps[0][m.queryIdx].pt for m in matches1]).reshape((-1, 1, 2))\n",
    "dst = np.float32([kps[1][m.trainIdx].pt for m in matches1]).reshape((-1, 1, 2))\n",
    "H, status = cv2.findHomography(src, dst, cv2.RANSAC, 5.0)\n",
    "\n",
    "\n",
    "# Prepare pixel coordinates in image1\n",
    "before = []\n",
    "for x in range(images[1].shape[1]):\n",
    "    for y in range(images[1].shape[0]):\n",
    "        point = [x, y, 1]\n",
    "        before.append(point)\n",
    "before = np.array(before).transpose()\n",
    "\n",
    "# [TODO] Calculate coordinates for each pixel in image1 to image 0\n",
    "after =\n",
    "after =\n",
    "after = after[:2, :]\n",
    "after = after.astype(int)\n",
    "after[0] += width\n",
    "\n",
    "for pt1, pt2 in zip(before[:2, :].transpose(), after.transpose()):\n",
    "    if pt2[1] < 0 or pt2[1] >= height:\n",
    "        continue\n",
    "\n",
    "    if any(pt2 < 0):\n",
    "        continue\n",
    "\n",
    "    result[pt2[1], pt2[0]] = images[0][pt1[1], pt1[0]]\n",
    "result[0:height, width:width*2] = images[1]"
   ]
  },
  {
   "cell_type": "code",
   "execution_count": null,
   "metadata": {},
   "outputs": [],
   "source": [
    "from PIL import Image\n",
    "Image.fromarray(cv2.cvtColor(result, cv2.COLOR_BGR2RGB))"
   ]
  }
 ],
 "metadata": {
  "kernelspec": {
   "display_name": "aue8089pa1",
   "language": "python",
   "name": "python3"
  },
  "language_info": {
   "codemirror_mode": {
    "name": "ipython",
    "version": 3
   },
   "file_extension": ".py",
   "mimetype": "text/x-python",
   "name": "python",
   "nbconvert_exporter": "python",
   "pygments_lexer": "ipython3",
   "version": "3.9.12"
  }
 },
 "nbformat": 4,
 "nbformat_minor": 2
}
