{
 "cells": [
  {
   "cell_type": "markdown",
   "metadata": {},
   "source": [
    "# 2. Simple homography calculation\n",
    "- Get manual correspondences (no outlier)\n",
    "- Implement direct linear transform solver to compute homography"
   ]
  },
  {
   "cell_type": "code",
   "execution_count": null,
   "metadata": {},
   "outputs": [],
   "source": [
    "import cv2\n",
    "import numpy as np\n",
    "from PIL import Image\n",
    "\n",
    "from ipywidgets import Label, Button, HBox\n",
    "from ipycanvas import MultiCanvas, hold_canvas\n"
   ]
  },
  {
   "cell_type": "code",
   "execution_count": null,
   "metadata": {},
   "outputs": [],
   "source": [
    "# Input images\n",
    "img_filename = 'data/book_desk.jpg'\n",
    "\n",
    "height, width = cv2.imread(img_filename).shape[:2]\n",
    "clicked_positions = []\n",
    "\n",
    "\n",
    "def set_image():\n",
    "    image = cv2.imread(img_filename)\n",
    "    image = cv2.cvtColor(image, cv2.COLOR_BGR2RGB)\n",
    "\n",
    "    canvas[0].clear()\n",
    "    canvas[0].put_image_data(image, 0, 0)\n",
    "    canvas[0].flush()\n",
    "\n",
    "    if len(clicked_positions):\n",
    "        handle_mouse_down(clicked_positions[0][0], clicked_positions[0][1])\n",
    "\n",
    "def handle_mouse_move(xpos, ypos):\n",
    "    with hold_canvas():\n",
    "        canvas[1].clear()  # Clear the old animation step\n",
    "        canvas[1].fill_style = \"yellow\"\n",
    "        canvas[1].fill_circle(xpos, ypos, 5)  # Draw the new frame\n",
    "\n",
    "def handle_mouse_down(xpos, ypos):\n",
    "    with hold_canvas():\n",
    "        # canvas[2].clear()\n",
    "        canvas[2].fill_style = \"red\"\n",
    "        canvas[2].fill_circle(xpos, ypos, 5)  # Draw the new frame\n",
    "\n",
    "    print('click location: (x, y) = ({}, {})'.format(xpos, ypos))\n",
    "    clicked_positions.append((xpos, ypos))\n",
    "\n",
    "def handle_clear_button(b):\n",
    "    canvas[1].clear()\n",
    "    canvas[2].clear()\n",
    "    clicked_positions = []\n",
    "\n",
    "canvas = MultiCanvas(3, width=width, height=height)\n",
    "cur_fname = Label(value='', disabled=False)\n",
    "cur_pos = Label(value='', disabled=True)\n",
    "clear_btn = Button(description='Clear', icon='check')\n",
    "\n",
    "set_image()\n",
    "canvas.on_mouse_move(handle_mouse_move)\n",
    "canvas.on_mouse_down(handle_mouse_down)\n",
    "clear_btn.on_click(handle_clear_button)\n",
    "\n",
    "display(canvas, HBox([cur_fname, cur_pos]), HBox([clear_btn]))"
   ]
  },
  {
   "cell_type": "code",
   "execution_count": null,
   "metadata": {},
   "outputs": [],
   "source": [
    "clicked_positions"
   ]
  },
  {
   "cell_type": "code",
   "execution_count": null,
   "metadata": {},
   "outputs": [],
   "source": [
    "I1 = cv2.imread('data/book_cover.jpg')\n",
    "I2 = cv2.imread('data/book_desk.jpg')\n",
    "\n",
    "display(Image.fromarray(np.hstack([I1, I2])[:,:,(2,1,0)]))"
   ]
  },
  {
   "cell_type": "code",
   "execution_count": null,
   "metadata": {},
   "outputs": [],
   "source": [
    "h, w, _ = I1.shape\n",
    "x1 = np.float32([\n",
    "    [0,     0],\n",
    "    [0,   h-1],\n",
    "    [w-1, h-1],\n",
    "    [w-1,   0],\n",
    "])\n",
    "\n",
    "x2 = np.array(clicked_positions[-4:])\n"
   ]
  },
  {
   "cell_type": "code",
   "execution_count": null,
   "metadata": {},
   "outputs": [],
   "source": [
    "def computeH(x1, x2):\n",
    "    \"\"\"Compute the homography between two sets of points\"\"\"\n",
    "\n",
    "    assert x1.shape[0] == x2.shape[0], \"The number of input and output points mismatches\"\n",
    "\n",
    "    if x1.shape[1] == 2:\n",
    "        p1 = np.ones((len(x1),3),'float64')\n",
    "        p1[:,:2] = x1\n",
    "    elif x1.shape[1] == 3:\n",
    "        p1 = x1\n",
    "    else:\n",
    "        raise ValueError(\"Bad shape for input points\")\n",
    "\n",
    "    if x2.shape[1] == 2:\n",
    "        p2 = np.ones((len(x2),3),'float64')\n",
    "        p2[:,:2] = x2\n",
    "    elif x2.shape[1] == 3:\n",
    "        p2 = x2\n",
    "    else:\n",
    "        raise ValueError(\"Bad shape for output points\")\n",
    "\n",
    "    npoints = len(x1)\n",
    "\n",
    "    A = np.zeros((2 * npoints, 9),'float64')\n",
    "\n",
    "    for i in range(npoints):\n",
    "        xsi, ysi, wsi = p1[i]\n",
    "        xdi, ydi, wdi = p2[i]\n",
    "\n",
    "        # [TODO] Complete the matrix A\n",
    "        A[i*2  ,0:3] =  [xsi, ysi, wsi]\n",
    "        A[i*2  ,6  ] = -xsi*xdi\n",
    "        A[i*2  ,7  ] = -ysi*xdi\n",
    "        A[i*2  ,8  ] = -wsi*xdi\n",
    "\n",
    "        A[i*2+1,3:6] = [xsi, ysi, wsi]\n",
    "        A[i*2+1,6  ] = -xsi*ydi\n",
    "        A[i*2+1,7  ] = -ysi*ydi\n",
    "        A[i*2+1,8  ] = -wsi*ydi\n",
    "\n",
    "    U, S, Vh = np.linalg.svd(A)\n",
    "    h = Vh[-1]\n",
    "    H = h.reshape(3,3)\n",
    "    return H"
   ]
  },
  {
   "cell_type": "code",
   "execution_count": null,
   "metadata": {},
   "outputs": [],
   "source": [
    "H = computeH(x1, x2)"
   ]
  },
  {
   "cell_type": "code",
   "execution_count": null,
   "metadata": {},
   "outputs": [],
   "source": [
    "# Apply homography\n",
    "\n",
    "# [TODO] Convert x1 to homogeneous coordinates\n",
    "x1_h = np.ones((len(x1), 3), 'float64')\n",
    "x1_h[:,:2] = x1\n",
    "\n",
    "# [TODO] Apply homography\n",
    "x1_prime_h = np.dot(H, x1_h.T).T \n",
    "\n",
    "# [TODO] Normalize the coordinates\n",
    "x1_prime = x1_prime_h[:,:2] / x1_prime_h[:,2:]\n",
    "\n",
    "x1_cv = x1.reshape(-1, 1, 2)\n",
    "x1_prime_cv = x1_prime.reshape(-1, 1, 2)\n",
    "\n",
    "I1 = cv2.polylines(I1, [np.int32(x1_cv)], True, 255, 2, cv2.LINE_AA)\n",
    "I2 = cv2.polylines(I2, [np.int32(x1_prime_cv)], True, 255, 2, cv2.LINE_AA)"
   ]
  },
  {
   "cell_type": "code",
   "execution_count": null,
   "metadata": {},
   "outputs": [],
   "source": [
    "images = np.hstack([I1, I2])\n",
    "\n",
    "for x1_i, x1_prime_i in zip(x1.astype(np.int32), x1_prime.astype(np.int32)):\n",
    "    x1_prime_i[0] += w\n",
    "    cv2.line(images, x1_i, x1_prime_i, (0, 255, 0), 1)\n",
    "\n",
    "display(Image.fromarray(images[:,:,(2,1,0)]))"
   ]
  },
  {
   "cell_type": "code",
   "execution_count": null,
   "metadata": {},
   "outputs": [],
   "source": []
  }
 ],
 "metadata": {
  "kernelspec": {
   "display_name": "aue8089pa1",
   "language": "python",
   "name": "python3"
  },
  "language_info": {
   "codemirror_mode": {
    "name": "ipython",
    "version": 3
   },
   "file_extension": ".py",
   "mimetype": "text/x-python",
   "name": "python",
   "nbconvert_exporter": "python",
   "pygments_lexer": "ipython3",
   "version": "3.9.12"
  }
 },
 "nbformat": 4,
 "nbformat_minor": 2
}
